{
 "cells": [
  {
   "cell_type": "markdown",
   "id": "5182d906-3531-4945-87af-4c5a3e187fa2",
   "metadata": {},
   "source": [
    " # Info\n",
    " A notebook created at local (JupyterLab file) for IBM Data Science Professional Certificate / Tools for Data Science Course / Week 2 / GitHub"
   ]
  },
  {
   "cell_type": "code",
   "execution_count": 1,
   "id": "0705c983-f393-4185-93b3-550f680c7a10",
   "metadata": {},
   "outputs": [
    {
     "name": "stdout",
     "output_type": "stream",
     "text": [
      "Hello IBM\n"
     ]
    }
   ],
   "source": [
    "print(\"Hello IBM\")"
   ]
  }
 ],
 "metadata": {
  "kernelspec": {
   "display_name": "Python 3 (ipykernel)",
   "language": "python",
   "name": "python3"
  },
  "language_info": {
   "codemirror_mode": {
    "name": "ipython",
    "version": 3
   },
   "file_extension": ".py",
   "mimetype": "text/x-python",
   "name": "python",
   "nbconvert_exporter": "python",
   "pygments_lexer": "ipython3",
   "version": "3.8.5"
  }
 },
 "nbformat": 4,
 "nbformat_minor": 5
}
